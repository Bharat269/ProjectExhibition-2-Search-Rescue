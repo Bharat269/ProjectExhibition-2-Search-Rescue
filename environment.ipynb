{
 "cells": [
  {
   "cell_type": "code",
   "execution_count": 12,
   "metadata": {},
   "outputs": [],
   "source": [
    "import numpy as np\n",
    "import gym\n",
    "from gym import spaces\n",
    "from pettingzoo import AECEnv\n",
    "from pettingzoo.utils import wrappers\n",
    "import pygame\n",
    "import random"
   ]
  },
  {
   "cell_type": "code",
   "execution_count": 13,
   "metadata": {},
   "outputs": [],
   "source": [
    "class RescueEnv(AECEnv):\n",
    "    metadata = {\"render_modes\": [\"human\"], \"name\": \"rescue_v0\"}\n",
    "\n",
    "    def __init__(self, grid_size=5, max_steps=50):\n",
    "        super().__init__()\n",
    "        self.grid_size = grid_size\n",
    "        self.max_steps = max_steps\n",
    "        self.current_step = 0\n",
    "        self.agents = [\"agent_1\", \"agent_2\"]\n",
    "        self.pos = {agent: [random.randint(0, grid_size-1), random.randint(0, grid_size-1)] for agent in self.agents}\n",
    "        self.observation_spaces = {agent: spaces.Discrete(grid_size * grid_size) for agent in self.agents}\n",
    "        self.action_spaces = {agent: spaces.Discrete(4) for agent in self.agents}  # 4 directions\n",
    "        self.render_mode = \"human\"\n",
    "\n",
    "    def reset(self, seed=None, options=None):\n",
    "        self.current_step = 0\n",
    "        self.pos = {agent: [random.randint(0, self.grid_size-1), random.randint(0, self.grid_size-1)] for agent in self.agents}\n",
    "        self.rewards = {agent: 0 for agent in self.agents}\n",
    "        self.terminations = {agent: False for agent in self.agents}\n",
    "        return {agent: self._get_obs(agent) for agent in self.agents}\n",
    "\n",
    "    def step(self, actions):\n",
    "        for agent, action in actions.items():\n",
    "            if action == 0:  # UP\n",
    "                self.pos[agent][1] = max(0, self.pos[agent][1] - 1)\n",
    "            elif action == 1:  # DOWN\n",
    "                self.pos[agent][1] = min(self.grid_size - 1, self.pos[agent][1] + 1)\n",
    "            elif action == 2:  # LEFT\n",
    "                self.pos[agent][0] = max(0, self.pos[agent][0] - 1)\n",
    "            elif action == 3:  # RIGHT\n",
    "                self.pos[agent][0] = min(self.grid_size - 1, self.pos[agent][0] + 1)\n",
    "            self.rewards[agent] = -1  # Small penalty for movement\n",
    "        self.current_step += 1\n",
    "        terminated = self.current_step >= self.max_steps\n",
    "        self.terminations = {agent: terminated for agent in self.agents}\n",
    "        return {agent: self._get_obs(agent) for agent in self.agents}, self.rewards, self.terminations, {}\n",
    "\n",
    "    def _get_obs(self, agent):\n",
    "        return self.pos[agent][0] * self.grid_size + self.pos[agent][1]\n",
    "\n",
    "    def render(self):\n",
    "        grid = np.zeros((self.grid_size, self.grid_size))\n",
    "        for agent in self.agents:\n",
    "            x, y = self.pos[agent]\n",
    "            grid[y, x] = 1  # Mark agent's position\n",
    "        print(grid)\n"
   ]
  },
  {
   "cell_type": "code",
   "execution_count": 14,
   "metadata": {},
   "outputs": [
    {
     "data": {
      "text/plain": [
       "{'agent_1': 8, 'agent_2': 1}"
      ]
     },
     "execution_count": 14,
     "metadata": {},
     "output_type": "execute_result"
    }
   ],
   "source": [
    "env = RescueEnv(grid_size=5)\n",
    "env.reset()"
   ]
  },
  {
   "cell_type": "code",
   "execution_count": 15,
   "metadata": {},
   "outputs": [
    {
     "name": "stdout",
     "output_type": "stream",
     "text": [
      "Starting Multi-Agent Rescue Simulation...\n",
      "[[0. 0. 0. 0. 0.]\n",
      " [0. 1. 0. 0. 0.]\n",
      " [0. 0. 0. 0. 0.]\n",
      " [0. 0. 0. 0. 0.]\n",
      " [0. 1. 0. 0. 0.]]\n",
      "[[0. 0. 0. 0. 0.]\n",
      " [1. 0. 0. 0. 0.]\n",
      " [0. 0. 0. 0. 0.]\n",
      " [0. 1. 0. 0. 0.]\n",
      " [0. 0. 0. 0. 0.]]\n",
      "[[0. 0. 0. 0. 0.]\n",
      " [1. 0. 0. 0. 0.]\n",
      " [0. 1. 0. 0. 0.]\n",
      " [0. 0. 0. 0. 0.]\n",
      " [0. 0. 0. 0. 0.]]\n",
      "[[0. 0. 0. 0. 0.]\n",
      " [0. 1. 0. 0. 0.]\n",
      " [0. 0. 1. 0. 0.]\n",
      " [0. 0. 0. 0. 0.]\n",
      " [0. 0. 0. 0. 0.]]\n",
      "[[0. 0. 0. 0. 0.]\n",
      " [0. 0. 1. 0. 0.]\n",
      " [0. 0. 0. 0. 0.]\n",
      " [0. 0. 1. 0. 0.]\n",
      " [0. 0. 0. 0. 0.]]\n",
      "[[0. 0. 0. 0. 0.]\n",
      " [0. 1. 0. 0. 0.]\n",
      " [0. 0. 0. 0. 0.]\n",
      " [0. 0. 0. 0. 0.]\n",
      " [0. 0. 1. 0. 0.]]\n",
      "[[0. 1. 0. 0. 0.]\n",
      " [0. 0. 0. 0. 0.]\n",
      " [0. 0. 0. 0. 0.]\n",
      " [0. 0. 1. 0. 0.]\n",
      " [0. 0. 0. 0. 0.]]\n",
      "[[1. 0. 0. 0. 0.]\n",
      " [0. 0. 0. 0. 0.]\n",
      " [0. 0. 0. 0. 0.]\n",
      " [0. 0. 0. 0. 0.]\n",
      " [0. 0. 1. 0. 0.]]\n",
      "[[1. 0. 0. 0. 0.]\n",
      " [0. 0. 0. 0. 0.]\n",
      " [0. 0. 0. 0. 0.]\n",
      " [0. 0. 0. 0. 0.]\n",
      " [0. 1. 0. 0. 0.]]\n",
      "[[0. 0. 0. 0. 0.]\n",
      " [1. 0. 0. 0. 0.]\n",
      " [0. 0. 0. 0. 0.]\n",
      " [0. 0. 0. 0. 0.]\n",
      " [0. 1. 0. 0. 0.]]\n",
      "End\n"
     ]
    }
   ],
   "source": [
    "print(\"Starting Multi-Agent Rescue Simulation...\")\n",
    "for _ in range(10):\n",
    "    actions = {agent: np.random.choice(4) for agent in env.agents}\n",
    "    obs, rewards, terminations, _ = env.step(actions)\n",
    "    env.render()\n",
    "print(\"End\")\n"
   ]
  }
 ],
 "metadata": {
  "kaggle": {
   "accelerator": "none",
   "dataSources": [],
   "dockerImageVersionId": 30886,
   "isGpuEnabled": false,
   "isInternetEnabled": false,
   "language": "python",
   "sourceType": "notebook"
  },
  "kernelspec": {
   "display_name": "Python 3 (ipykernel)",
   "language": "python",
   "name": "python3"
  },
  "language_info": {
   "codemirror_mode": {
    "name": "ipython",
    "version": 3
   },
   "file_extension": ".py",
   "mimetype": "text/x-python",
   "name": "python",
   "nbconvert_exporter": "python",
   "pygments_lexer": "ipython3",
   "version": "3.12.4"
  }
 },
 "nbformat": 4,
 "nbformat_minor": 4
}
